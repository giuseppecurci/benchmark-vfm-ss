{
 "cells": [
  {
   "cell_type": "code",
   "execution_count": 6,
   "metadata": {},
   "outputs": [],
   "source": [
    "import torch\n",
    "from torch.utils.data import DataLoader\n",
    "\n",
    "from models.linear_decoder import LinearDecoder\n",
    "from bravo_datasets import CityscapesDataset\n",
    "from inference import normal_eval\n",
    "from clean_dataset import visualize_batch"
   ]
  },
  {
   "cell_type": "code",
   "execution_count": 7,
   "metadata": {},
   "outputs": [],
   "source": [
    "encoder_name = ['vit_large_patch14_dinov2', \"eva02_large_patch14_224\", \"depth-anything/Depth-Anything-V2-Base-hf\"]\n",
    "img_size = (1024, 1024) \n",
    "num_classes = 19\n",
    "device = torch.device('cuda:0')"
   ]
  },
  {
   "cell_type": "code",
   "execution_count": null,
   "metadata": {},
   "outputs": [],
   "source": [
    "out_of_context = '/media/data/workspace_Giuseppe/code/datasets/BRAVO/outofcontext'\n",
    "synrain = '/media/data/workspace_Giuseppe/code/datasets/BRAVO/synrain'\n",
    "ignore_idx_out_of_context = [0,1,9]\n",
    "\n",
    "dataset = CityscapesDataset(root_dir=out_of_context, ignore_idx=ignore_idx_out_of_context)\n",
    "eval_dataloader = DataLoader(dataset, batch_size=4, shuffle=False, num_workers=8)"
   ]
  },
  {
   "cell_type": "code",
   "execution_count": 8,
   "metadata": {},
   "outputs": [
    {
     "name": "stderr",
     "output_type": "stream",
     "text": [
      "/home/artemis/miniconda3/envs/benchmark-vfm-ss/lib/python3.10/site-packages/torch/_functorch/deprecated.py:61: UserWarning: We've integrated functorch into PyTorch. As the final step of the integration, functorch.vmap is deprecated as of PyTorch 2.0 and will be deleted in a future version of PyTorch >= 2.3. Please use torch.vmap instead; see the PyTorch 2.0 release notes and/or the torch.func migration guide for more details https://pytorch.org/docs/master/func.migrating.html\n",
      "  warn_deprecated('vmap', 'torch.vmap')\n"
     ]
    }
   ],
   "source": [
    "model_name = 'eva02_large_patch14_224.mim_m38m'\n",
    "model = LinearDecoder(\n",
    "    model_name,\n",
    "    num_classes=19,\n",
    "    img_size=img_size,\n",
    "    pretrained=True,\n",
    "    sub_norm=False,\n",
    "    patch_size=8,\n",
    ")"
   ]
  },
  {
   "cell_type": "code",
   "execution_count": null,
   "metadata": {},
   "outputs": [],
   "source": [
    "patch_size = 16\n",
    "checkpoint_path_dinov2large = '/media/data/workspace_Giuseppe/code/checkpoints/CityScapes/dinov2largepatch8linear/best-checkpoint-epoch=41-val_0_miou=0.85.ckpt'\n",
    "checkpoint_path_depthv2base = '/media/data/workspace_Giuseppe/code/checkpoints/CityScapes/depthv2base_16psize/best-checkpoint-epoch=36-val_0_miou=0.81.ckpt'\n",
    "model = LinearDecoder(\n",
    "    encoder_name[2],\n",
    "    num_classes = num_classes,\n",
    "    img_size = img_size,\n",
    "    sub_norm = False, \n",
    "    patch_size = patch_size,\n",
    "    pretrained = True\n",
    ")\n",
    "\n",
    "model.to(device)\n",
    "model.eval()\n",
    "\n",
    "checkpoint = torch.load(checkpoint_path_depthv2base)\n",
    "  \n",
    "model.load_state_dict(checkpoint['state_dict'])"
   ]
  },
  {
   "cell_type": "code",
   "execution_count": null,
   "metadata": {},
   "outputs": [],
   "source": [
    "normal_eval(model=model, \n",
    "          img_size=img_size, \n",
    "          device=device, \n",
    "          num_classes=num_classes, \n",
    "          eval_dataloader=eval_dataloader)"
   ]
  },
  {
   "cell_type": "code",
   "execution_count": 1,
   "metadata": {},
   "outputs": [
    {
     "name": "stderr",
     "output_type": "stream",
     "text": [
      "/home/artemis/miniconda3/envs/benchmark-vfm-ss/lib/python3.10/site-packages/tqdm/auto.py:21: TqdmWarning: IProgress not found. Please update jupyter and ipywidgets. See https://ipywidgets.readthedocs.io/en/stable/user_install.html\n",
      "  from .autonotebook import tqdm as notebook_tqdm\n"
     ]
    }
   ],
   "source": [
    "from bravo_datasets import ACDCDataset\n",
    "\n",
    "acdc_root = '/media/data/workspace_Giuseppe/code/datasets/BRAVO/ACDC'\n",
    "acdc_dataset = ACDCDataset(root_dir=acdc_root, split='train', img_size=1024)"
   ]
  },
  {
   "cell_type": "markdown",
   "metadata": {},
   "source": [
    "----"
   ]
  },
  {
   "cell_type": "markdown",
   "metadata": {},
   "source": [
    "python3 inference.py \\\n",
    "    --model.network.encoder_name eva02_large_patch14_224.mim_m38m \\\n",
    "    --model.network.patch_size 8 \\\n",
    "    --checkpoint_path /home/kronos/workspace_Giuseppe/checkpoints_CS/eva02large_patch8/best-checkpoint-epoch=39-val_0_miou=0.82.ckpt \\\n",
    "    --img_size 1024 \\\n",
    "    --dataset ACDC \\\n",
    "    --root /home/kronos/workspace_Giuseppe/data/ACDC \\\n",
    "    --batch_size 32 \\\n",
    "    --num_workers 8"
   ]
  },
  {
   "cell_type": "markdown",
   "metadata": {},
   "source": [
    "python3 inference.py \\\n",
    "    --model.network.encoder_name vit_large_patch14_dinov2 \\\n",
    "    --model.network.patch_size 8 \\\n",
    "    --checkpoint_path /media/data/workspace_Giuseppe/code/checkpoints/CityScapes/dinov2largepatch8linear/best-checkpoint-epoch=41-val_0_miou=0.85.ckpt \\\n",
    "    --img_size 1024 \\\n",
    "    --dataset out_of_context \\\n",
    "    --root /media/data/workspace_Giuseppe/code/datasets/BRAVO/outofcontext \\\n",
    "    --batch_size 4 \\\n",
    "    --num_workers 8\n",
    "\n",
    "python3 inference.py \\\n",
    "    --model.network.encoder_name depth-anything/Depth-Anything-V2-Base-hf \\\n",
    "    --model.network.patch_size 16 \\\n",
    "    --checkpoint_path /media/data/workspace_Giuseppe/code/checkpoints/CityScapes/depthv2base_16psize/best-checkpoint-epoch=36-val_0_miou=0.81.ckpt \\\n",
    "    --img_size 1024 \\\n",
    "    --dataset synrain \\\n",
    "    --root /media/data/workspace_Giuseppe/code/datasets/BRAVO/synrain \\\n",
    "    --batch_size 4 \\\n",
    "    --num_workers 8"
   ]
  }
 ],
 "metadata": {
  "kernelspec": {
   "display_name": "benchmark-vfm-ss",
   "language": "python",
   "name": "python3"
  },
  "language_info": {
   "codemirror_mode": {
    "name": "ipython",
    "version": 3
   },
   "file_extension": ".py",
   "mimetype": "text/x-python",
   "name": "python",
   "nbconvert_exporter": "python",
   "pygments_lexer": "ipython3",
   "version": "3.10.16"
  }
 },
 "nbformat": 4,
 "nbformat_minor": 2
}
